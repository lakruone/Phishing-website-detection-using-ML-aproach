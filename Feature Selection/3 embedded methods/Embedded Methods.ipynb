{
 "cells": [
  {
   "cell_type": "code",
   "execution_count": 15,
   "metadata": {},
   "outputs": [
    {
     "name": "stdout",
     "output_type": "stream",
     "text": [
      "total features: 9\n",
      "selected features: 9\n",
      "features with coefficients shrank to zero: 0\n"
     ]
    }
   ],
   "source": [
    "# LASSO Regularization (L1)\n",
    "import numpy as np\n",
    "from sklearn.linear_model import LogisticRegression\n",
    "from sklearn.feature_selection import SelectFromModel\n",
    "import pandas as pd\n",
    "from sklearn.model_selection import train_test_split\n",
    "from sklearn.preprocessing import StandardScaler\n",
    "\n",
    "dataset = pd.read_csv('dataset.csv')\n",
    "X= dataset.drop(columns='Result')\n",
    "Y= dataset['Result']\n",
    "# X.head()\n",
    "X_train,X_test,Y_train,Y_test = train_test_split(X,Y,test_size=0.2)\n",
    "\n",
    "# Scaling the data, as linear models benefits from feature scaling\n",
    "scaler = StandardScaler()\n",
    "scaler.fit(X_train.fillna(0))\n",
    "\n",
    "# set the regularization parameter c=1\n",
    "logistic = LogisticRegression(C=1, penalty='l1', solver='liblinear', random_state=7)\n",
    "\n",
    "sel_ = SelectFromModel(logistic)\n",
    "sel_.fit(scaler.transform(X_train.fillna(0)), Y_train)\n",
    "\n",
    "sel_.get_support()\n",
    "\n",
    "selected_feat = X_train.columns[(sel_.get_support())]\n",
    "print('total features: {}'.format((X_train.shape[1])))\n",
    "print('selected features: {}'.format(len(selected_feat)))\n",
    "print('features with coefficients shrank to zero: {}'.format(\n",
    "      np.sum(sel_.estimator_.coef_ == 0)))"
   ]
  },
  {
   "cell_type": "code",
   "execution_count": 1,
   "metadata": {},
   "outputs": [
    {
     "data": {
      "text/plain": [
       "<matplotlib.axes._subplots.AxesSubplot at 0x241fc5c2688>"
      ]
     },
     "execution_count": 1,
     "metadata": {},
     "output_type": "execute_result"
    },
    {
     "data": {
      "image/png": "[encoded data removed]",
      "text/plain": [
       "<Figure size 432x288 with 1 Axes>"
      ]
     },
     "metadata": {
      "needs_background": "light"
     },
     "output_type": "display_data"
    }
   ],
   "source": [
    "#Random Forest Importance\n",
    "from sklearn.ensemble import RandomForestClassifier\n",
    "import pandas as pd\n",
    "from sklearn.model_selection import train_test_split\n",
    "\n",
    "dataset = pd.read_csv('dataset.csv')\n",
    "X= dataset.drop(columns='Result')\n",
    "Y= dataset['Result']\n",
    "# X.head()\n",
    "X_train,X_test,Y_train,Y_test = train_test_split(X,Y,test_size=0.2)\n",
    "\n",
    "model = RandomForestClassifier(n_estimators=340)\n",
    "model.fit(X_train,Y_train)\n",
    "\n",
    "# get the importance of resulting features\n",
    "importances = model.feature_importances_\n",
    "\n",
    "# create a dataframe for vissualization\n",
    "final_df = pd.DataFrame({\"Features\": pd.DataFrame(X).columns, \"Importances\":importances})\n",
    "final_df.set_index('Importances')\n",
    "\n",
    "# sort in ascending order for better vissualization\n",
    "final_df = final_df.sort_values('Importances')\n",
    "\n",
    "final_df.plot.bar(color='teal')"
   ]
  },
  {
   "cell_type": "code",
   "execution_count": null,
   "metadata": {},
   "outputs": [],
   "source": []
  }
 ],
 "metadata": {
  "kernelspec": {
   "display_name": "Python 3",
   "language": "python",
   "name": "python3"
  },
  "language_info": {
   "codemirror_mode": {
    "name": "ipython",
    "version": 3
   },
   "file_extension": ".py",
   "mimetype": "text/x-python",
   "name": "python",
   "nbconvert_exporter": "python",
   "pygments_lexer": "ipython3",
   "version": "3.7.7"
  }
 },
 "nbformat": 4,
 "nbformat_minor": 4
}
