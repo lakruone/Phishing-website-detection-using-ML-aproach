{
 "cells": [
  {
   "cell_type": "code",
   "execution_count": 7,
   "metadata": {},
   "outputs": [
    {
     "name": "stdout",
     "output_type": "stream",
     "text": [
      "['Links_in_tags', 'SFH', 'Submitting_to_email', 'Abnormal_URL', 'on_mouseover', 'popUpWidnow', 'Iframe']\n"
     ]
    }
   ],
   "source": [
    "# Forward Feature Selection\n",
    "from mlxtend.feature_selection import SequentialFeatureSelector\n",
    "import pandas as pd\n",
    "from sklearn.model_selection import train_test_split\n",
    "from sklearn.linear_model import LogisticRegression\n",
    "\n",
    "\n",
    "dataset = pd.read_csv('dataset.csv')\n",
    "X= dataset.drop(columns='Result')\n",
    "Y= dataset['Result']\n",
    "# X.head()\n",
    "X_train,X_test,Y_train,Y_test = train_test_split(X,Y,test_size=0.2)\n",
    "\n",
    "lr = LogisticRegression(class_weight='balanced', solver='lbfgs', random_state=42, n_jobs=-1, max_iter=500)\n",
    "ffs = SequentialFeatureSelector(lr, k_features='best', forward=True, n_jobs=-1)\n",
    "ffs.fit(X,Y)\n",
    "features = list(ffs.k_feature_names_)\n",
    "features = list(map(str, features))\n",
    "\n",
    "print(features)\n",
    "\n",
    "# lr.fit(X_train[features], Y_train)\n",
    "# y_pred = lr.predict(X_train[features])\n",
    "# print(y_pred)"
   ]
  },
  {
   "cell_type": "code",
   "execution_count": 8,
   "metadata": {},
   "outputs": [
    {
     "name": "stdout",
     "output_type": "stream",
     "text": [
      "['Links_in_tags', 'SFH', 'Submitting_to_email', 'Abnormal_URL', 'on_mouseover', 'popUpWidnow', 'Iframe']\n"
     ]
    }
   ],
   "source": [
    "# Backward Feature Selection\n",
    "from mlxtend.feature_selection import SequentialFeatureSelector\n",
    "import pandas as pd\n",
    "from sklearn.model_selection import train_test_split\n",
    "from sklearn.linear_model import LogisticRegression\n",
    "\n",
    "\n",
    "dataset = pd.read_csv('dataset.csv')\n",
    "X= dataset.drop(columns='Result')\n",
    "Y= dataset['Result']\n",
    "# X.head()\n",
    "X_train,X_test,Y_train,Y_test = train_test_split(X,Y,test_size=0.2)\n",
    "\n",
    "lr = LogisticRegression(class_weight='balanced', solver='lbfgs', random_state=42, n_jobs=-1, max_iter=500)\n",
    "bfs = SequentialFeatureSelector(lr, k_features='best', forward=False, n_jobs=-1)\n",
    "bfs.fit(X,Y)\n",
    "features = list(bfs.k_feature_names_)\n",
    "features = list(map(str, features))\n",
    "\n",
    "print(features)\n",
    "\n",
    "# lr.fit(X_train[features], Y_train)\n",
    "# y_pred = lr.predict(X_train[features])\n",
    "# print(y_pred)"
   ]
  },
  {
   "cell_type": "code",
   "execution_count": 9,
   "metadata": {
    "scrolled": true
   },
   "outputs": [
    {
     "name": "stderr",
     "output_type": "stream",
     "text": [
      "Features: 381/381"
     ]
    },
    {
     "name": "stdout",
     "output_type": "stream",
     "text": [
      "Index(['Links_in_tags', 'Submitting_to_email', 'Abnormal_URL', 'Redirect',\n",
      "       'on_mouseover', 'RightClick', 'popUpWidnow', 'Iframe'],\n",
      "      dtype='object')\n"
     ]
    }
   ],
   "source": [
    "# Exhaustive Feature Selection\n",
    "from mlxtend.feature_selection import ExhaustiveFeatureSelector\n",
    "\n",
    "#import algorythm u want to evaluate on your features\n",
    "from sklearn.ensemble import RandomForestClassifier\n",
    "\n",
    "# create the exhaustive feature selector object\n",
    "efs = ExhaustiveFeatureSelector(RandomForestClassifier(),\n",
    "                               min_features=4,\n",
    "                               max_features=8,\n",
    "                               scoring='roc_auc',\n",
    "                               cv=2)\n",
    "\n",
    "efs = efs.fit(X,Y)\n",
    "\n",
    "selected_features = X_train.columns[list(efs.best_idx_)]\n",
    "print(selected_features)\n"
   ]
  },
  {
   "cell_type": "code",
   "execution_count": 10,
   "metadata": {},
   "outputs": [
    {
     "name": "stdout",
     "output_type": "stream",
     "text": [
      "0.7341994884162122\n"
     ]
    }
   ],
   "source": [
    "print(efs.best_score_)"
   ]
  },
  {
   "cell_type": "code",
   "execution_count": 19,
   "metadata": {},
   "outputs": [
    {
     "name": "stdout",
     "output_type": "stream",
     "text": [
      "Column: 0, Selected True, Rank: 1.000 col_name: Links_in_tags\n",
      "Column: 1, Selected True, Rank: 1.000 col_name: SFH\n",
      "Column: 2, Selected False, Rank: 2.000 col_name: Submitting_to_email\n",
      "Column: 3, Selected True, Rank: 1.000 col_name: Abnormal_URL\n",
      "Column: 4, Selected True, Rank: 1.000 col_name: Redirect\n",
      "Column: 5, Selected True, Rank: 1.000 col_name: on_mouseover\n",
      "Column: 6, Selected True, Rank: 1.000 col_name: RightClick\n",
      "Column: 7, Selected False, Rank: 3.000 col_name: popUpWidnow\n",
      "Column: 8, Selected True, Rank: 1.000 col_name: Iframe\n"
     ]
    }
   ],
   "source": [
    "#Recursive Feature Elimination\n",
    "from sklearn.feature_selection import RFE\n",
    "\n",
    "rfe = RFE(lr, n_features_to_select=7) #choose number of columns to be selected\n",
    "rfe = rfe.fit(X_train,Y_train)\n",
    "\n",
    "# summarize all features\n",
    "for i in range(X.shape[1]):\n",
    "\tprint('Column: %d, Selected %s, Rank: %.3f col_name: %s' % (i, rfe.support_[i], rfe.ranking_[i], X_train.columns[i]))"
   ]
  },
  {
   "cell_type": "code",
   "execution_count": null,
   "metadata": {},
   "outputs": [],
   "source": []
  }
 ],
 "metadata": {
  "kernelspec": {
   "display_name": "Python 3",
   "language": "python",
   "name": "python3"
  },
  "language_info": {
   "codemirror_mode": {
    "name": "ipython",
    "version": 3
   },
   "file_extension": ".py",
   "mimetype": "text/x-python",
   "name": "python",
   "nbconvert_exporter": "python",
   "pygments_lexer": "ipython3",
   "version": "3.7.7"
  }
 },
 "nbformat": 4,
 "nbformat_minor": 4
}
