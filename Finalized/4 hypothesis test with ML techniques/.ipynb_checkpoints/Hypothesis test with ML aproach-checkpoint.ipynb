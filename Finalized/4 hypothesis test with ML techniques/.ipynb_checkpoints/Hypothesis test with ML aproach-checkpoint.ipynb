{
 "cells": [
  {
   "cell_type": "markdown",
   "metadata": {},
   "source": [
    "Here we hope to carry out a Machine learning technique to verify the hypothesis"
   ]
  },
  {
   "cell_type": "markdown",
   "metadata": {},
   "source": [
    "First we will consider the feature \"links in meta, script and link tags\". \n",
    "\n",
    "According to our hypothesis we consider that link percentage less than 17% are most likely to be legitimate, while link percentage greater than 80% are likely to be phishing. \n",
    "\n",
    "So we can plot a graph between accuracy of the prediction vs changing the link percentage"
   ]
  },
  {
   "cell_type": "markdown",
   "metadata": {},
   "source": [
    "## Feature - Links in Meata, Script and Link tags"
   ]
  },
  {
   "cell_type": "markdown",
   "metadata": {},
   "source": [
    "First we consider the hypothesis for legitimate websites"
   ]
  },
  {
   "cell_type": "code",
   "execution_count": 30,
   "metadata": {},
   "outputs": [
    {
     "data": {
      "text/html": [
       "<div>\n",
       "<style scoped>\n",
       "    .dataframe tbody tr th:only-of-type {\n",
       "        vertical-align: middle;\n",
       "    }\n",
       "\n",
       "    .dataframe tbody tr th {\n",
       "        vertical-align: top;\n",
       "    }\n",
       "\n",
       "    .dataframe thead th {\n",
       "        text-align: right;\n",
       "    }\n",
       "</style>\n",
       "<table border=\"1\" class=\"dataframe\">\n",
       "  <thead>\n",
       "    <tr style=\"text-align: right;\">\n",
       "      <th></th>\n",
       "      <th>Links_in_tags</th>\n",
       "      <th>Abnormal_URL</th>\n",
       "      <th>Submitting_to_email</th>\n",
       "      <th>SFH</th>\n",
       "      <th>Iframe</th>\n",
       "      <th>popUpWidnow</th>\n",
       "      <th>on_mouseover</th>\n",
       "      <th>RightClick</th>\n",
       "      <th>Redirect</th>\n",
       "    </tr>\n",
       "  </thead>\n",
       "  <tbody>\n",
       "    <tr>\n",
       "      <th>0</th>\n",
       "      <td>73.913043</td>\n",
       "      <td>-1</td>\n",
       "      <td>1</td>\n",
       "      <td>1</td>\n",
       "      <td>-1</td>\n",
       "      <td>1</td>\n",
       "      <td>1</td>\n",
       "      <td>1</td>\n",
       "      <td>0</td>\n",
       "    </tr>\n",
       "    <tr>\n",
       "      <th>1</th>\n",
       "      <td>85.000000</td>\n",
       "      <td>-1</td>\n",
       "      <td>1</td>\n",
       "      <td>1</td>\n",
       "      <td>-1</td>\n",
       "      <td>1</td>\n",
       "      <td>1</td>\n",
       "      <td>1</td>\n",
       "      <td>0</td>\n",
       "    </tr>\n",
       "    <tr>\n",
       "      <th>2</th>\n",
       "      <td>97.000000</td>\n",
       "      <td>-1</td>\n",
       "      <td>1</td>\n",
       "      <td>1</td>\n",
       "      <td>-1</td>\n",
       "      <td>1</td>\n",
       "      <td>1</td>\n",
       "      <td>1</td>\n",
       "      <td>1</td>\n",
       "    </tr>\n",
       "    <tr>\n",
       "      <th>3</th>\n",
       "      <td>12.000000</td>\n",
       "      <td>-1</td>\n",
       "      <td>1</td>\n",
       "      <td>-1</td>\n",
       "      <td>1</td>\n",
       "      <td>-1</td>\n",
       "      <td>-1</td>\n",
       "      <td>-1</td>\n",
       "      <td>0</td>\n",
       "    </tr>\n",
       "    <tr>\n",
       "      <th>4</th>\n",
       "      <td>55.555556</td>\n",
       "      <td>-1</td>\n",
       "      <td>1</td>\n",
       "      <td>-1</td>\n",
       "      <td>1</td>\n",
       "      <td>-1</td>\n",
       "      <td>-1</td>\n",
       "      <td>-1</td>\n",
       "      <td>0</td>\n",
       "    </tr>\n",
       "  </tbody>\n",
       "</table>\n",
       "</div>"
      ],
      "text/plain": [
       "   Links_in_tags  Abnormal_URL  Submitting_to_email  SFH  Iframe  popUpWidnow  \\\n",
       "0      73.913043            -1                    1    1      -1            1   \n",
       "1      85.000000            -1                    1    1      -1            1   \n",
       "2      97.000000            -1                    1    1      -1            1   \n",
       "3      12.000000            -1                    1   -1       1           -1   \n",
       "4      55.555556            -1                    1   -1       1           -1   \n",
       "\n",
       "   on_mouseover  RightClick  Redirect  \n",
       "0             1           1         0  \n",
       "1             1           1         0  \n",
       "2             1           1         1  \n",
       "3            -1          -1         0  \n",
       "4            -1          -1         0  "
      ]
     },
     "execution_count": 30,
     "metadata": {},
     "output_type": "execute_result"
    }
   ],
   "source": [
    "import numpy as np\n",
    "import pandas as pd\n",
    "# from sklearn.linear_model import LogisticRegression\n",
    "from sklearn.ensemble import RandomForestClassifier\n",
    "from sklearn.metrics import accuracy_score,confusion_matrix,classification_report\n",
    "from sklearn.model_selection import train_test_split,cross_val_score\n",
    "\n",
    "dataset = pd.read_csv('dataset1.csv')\n",
    "X= dataset.drop(columns=['url','Result'])\n",
    "Y= dataset['Result']\n",
    "X.head()"
   ]
  },
  {
   "cell_type": "code",
   "execution_count": 31,
   "metadata": {},
   "outputs": [
    {
     "data": {
      "text/html": [
       "<div>\n",
       "<style scoped>\n",
       "    .dataframe tbody tr th:only-of-type {\n",
       "        vertical-align: middle;\n",
       "    }\n",
       "\n",
       "    .dataframe tbody tr th {\n",
       "        vertical-align: top;\n",
       "    }\n",
       "\n",
       "    .dataframe thead th {\n",
       "        text-align: right;\n",
       "    }\n",
       "</style>\n",
       "<table border=\"1\" class=\"dataframe\">\n",
       "  <thead>\n",
       "    <tr style=\"text-align: right;\">\n",
       "      <th></th>\n",
       "      <th>Links_in_tags</th>\n",
       "      <th>accuracy</th>\n",
       "    </tr>\n",
       "  </thead>\n",
       "  <tbody>\n",
       "    <tr>\n",
       "      <th>0</th>\n",
       "      <td>0</td>\n",
       "      <td>79.4375</td>\n",
       "    </tr>\n",
       "    <tr>\n",
       "      <th>1</th>\n",
       "      <td>1</td>\n",
       "      <td>79.5000</td>\n",
       "    </tr>\n",
       "    <tr>\n",
       "      <th>2</th>\n",
       "      <td>2</td>\n",
       "      <td>79.5625</td>\n",
       "    </tr>\n",
       "    <tr>\n",
       "      <th>3</th>\n",
       "      <td>3</td>\n",
       "      <td>79.5625</td>\n",
       "    </tr>\n",
       "    <tr>\n",
       "      <th>4</th>\n",
       "      <td>4</td>\n",
       "      <td>79.6250</td>\n",
       "    </tr>\n",
       "  </tbody>\n",
       "</table>\n",
       "</div>"
      ],
      "text/plain": [
       "   Links_in_tags  accuracy\n",
       "0              0   79.4375\n",
       "1              1   79.5000\n",
       "2              2   79.5625\n",
       "3              3   79.5625\n",
       "4              4   79.6250"
      ]
     },
     "execution_count": 31,
     "metadata": {},
     "output_type": "execute_result"
    }
   ],
   "source": [
    "links_col = pd.DataFrame(X['Links_in_tags'])\n",
    "\n",
    "graph_data = pd.DataFrame()\n",
    "graph_data[\"Links_in_tags\"] = range(80)\n",
    "\n",
    "\n",
    "accuracy_arr = ['none']*80\n",
    "\n",
    "for num1 in range(80):\n",
    "    conds = [links_col.values < num1 , links_col.values > 81]\n",
    "\n",
    "    choices = ['-1', '1']\n",
    "    col = pd.DataFrame(np.select(conds, choices, default='0'),\n",
    "                       index=links_col.index,\n",
    "                       columns=links_col.columns)\n",
    "    \n",
    "    # append the updated length_url column to remaining dataset\n",
    "    X_new = X.assign(Links_in_tags=col['Links_in_tags'])\n",
    "    train_X,test_X,train_Y,test_Y=train_test_split(X_new,Y,test_size=0.2,random_state=2)\n",
    "    \n",
    "    # test using logistic regression\n",
    "    #logreg=LogisticRegression()\n",
    "    #model_1=logreg.fit(train_X,train_Y)   \n",
    "    rfc=RandomForestClassifier()\n",
    "    model_1=rfc.fit(train_X,train_Y)\n",
    "\n",
    "    #logreg_predict= model_1.predict(test_X)\n",
    "    #accuracy_arr[num1] = accuracy_score(logreg_predict,test_Y)*100\n",
    "    rfc_predict= model_1.predict(test_X)\n",
    "    accuracy_arr[num1] = accuracy_score(rfc_predict,test_Y)*100\n",
    "    \n",
    "graph_data[\"accuracy\"] = accuracy_arr \n",
    "graph_data.head()"
   ]
  },
  {
   "cell_type": "code",
   "execution_count": 38,
   "metadata": {},
   "outputs": [
    {
     "data": {
      "image/png": "[encoded data removed]",
      "text/plain": [
       "<Figure size 720x504 with 1 Axes>"
      ]
     },
     "metadata": {
      "needs_background": "light"
     },
     "output_type": "display_data"
    }
   ],
   "source": [
    "import matplotlib.pyplot as plt\n",
    "%matplotlib inline\n",
    "\n",
    "plt.figure(figsize=(10, 7))\n",
    "plt.title('Legitimate Websites')\n",
    "plt.xlabel('extrenal link percentage')\n",
    "plt.ylabel('accuracy')\n",
    "\n",
    "plt.plot(graph_data['Links_in_tags'].values, graph_data['accuracy'].values )\n",
    "plt.plot(18.7,82.72, '*')\n",
    "plt.show()\n"
   ]
  },
  {
   "cell_type": "markdown",
   "metadata": {},
   "source": [
    "According to the above graph, it gives highest accuracy at 18.7 on x axis. So that we can conclude that, when the links in tag percentage is less than 19% it can be a legitimate website."
   ]
  },
  {
   "cell_type": "code",
   "execution_count": null,
   "metadata": {},
   "outputs": [],
   "source": []
  },
  {
   "cell_type": "markdown",
   "metadata": {},
   "source": [
    "Phishing websites"
   ]
  },
  {
   "cell_type": "code",
   "execution_count": 42,
   "metadata": {},
   "outputs": [
    {
     "data": {
      "text/html": [
       "<div>\n",
       "<style scoped>\n",
       "    .dataframe tbody tr th:only-of-type {\n",
       "        vertical-align: middle;\n",
       "    }\n",
       "\n",
       "    .dataframe tbody tr th {\n",
       "        vertical-align: top;\n",
       "    }\n",
       "\n",
       "    .dataframe thead th {\n",
       "        text-align: right;\n",
       "    }\n",
       "</style>\n",
       "<table border=\"1\" class=\"dataframe\">\n",
       "  <thead>\n",
       "    <tr style=\"text-align: right;\">\n",
       "      <th></th>\n",
       "      <th>Links_in_tags</th>\n",
       "      <th>accuracy</th>\n",
       "    </tr>\n",
       "  </thead>\n",
       "  <tbody>\n",
       "    <tr>\n",
       "      <th>0</th>\n",
       "      <td>70</td>\n",
       "      <td>81.6875</td>\n",
       "    </tr>\n",
       "    <tr>\n",
       "      <th>1</th>\n",
       "      <td>71</td>\n",
       "      <td>81.6875</td>\n",
       "    </tr>\n",
       "    <tr>\n",
       "      <th>2</th>\n",
       "      <td>72</td>\n",
       "      <td>82.0000</td>\n",
       "    </tr>\n",
       "    <tr>\n",
       "      <th>3</th>\n",
       "      <td>73</td>\n",
       "      <td>82.1875</td>\n",
       "    </tr>\n",
       "    <tr>\n",
       "      <th>4</th>\n",
       "      <td>74</td>\n",
       "      <td>82.2500</td>\n",
       "    </tr>\n",
       "  </tbody>\n",
       "</table>\n",
       "</div>"
      ],
      "text/plain": [
       "   Links_in_tags  accuracy\n",
       "0             70   81.6875\n",
       "1             71   81.6875\n",
       "2             72   82.0000\n",
       "3             73   82.1875\n",
       "4             74   82.2500"
      ]
     },
     "execution_count": 42,
     "metadata": {},
     "output_type": "execute_result"
    }
   ],
   "source": [
    "links_col = pd.DataFrame(X['Links_in_tags'])\n",
    "\n",
    "graph_data = pd.DataFrame()\n",
    "# graph_data[\"Links_in_tags\"] = range(80)\n",
    "graph_data[\"Links_in_tags\"] = range(70,100)\n",
    "\n",
    "\n",
    "accuracy_arr = ['none']*30\n",
    "\n",
    "for num1 in range(70,100):\n",
    "    #conds = [links_col.values < num1 , links_col.values > 81]\n",
    "    conds = [links_col.values < 17 , links_col.values > num1]\n",
    "\n",
    "    choices = ['-1', '1']\n",
    "    col = pd.DataFrame(np.select(conds, choices, default='0'),\n",
    "                       index=links_col.index,\n",
    "                       columns=links_col.columns)\n",
    "    \n",
    "    # append the updated length_url column to remaining dataset\n",
    "    X_new = X.assign(Links_in_tags=col['Links_in_tags'])\n",
    "    train_X,test_X,train_Y,test_Y=train_test_split(X_new,Y,test_size=0.2,random_state=2)\n",
    "    \n",
    "    # test using logistic regression\n",
    "    #logreg=LogisticRegression()\n",
    "    #model_1=logreg.fit(train_X,train_Y)\n",
    "    rfc=RandomForestClassifier()\n",
    "    model_1=rfc.fit(train_X,train_Y)\n",
    "\n",
    "    #logreg_predict= model_1.predict(test_X)\n",
    "    #accuracy_arr[num1-70] = accuracy_score(logreg_predict,test_Y)*100\n",
    "    rfc_predict= model_1.predict(test_X)\n",
    "    accuracy_arr[num1-70] = accuracy_score(rfc_predict,test_Y)*100\n",
    "    \n",
    "graph_data[\"accuracy\"] = accuracy_arr \n",
    "graph_data.head()"
   ]
  },
  {
   "cell_type": "code",
   "execution_count": 46,
   "metadata": {},
   "outputs": [
    {
     "data": {
      "image/png": "[encoded data removed]",
      "text/plain": [
       "<Figure size 720x504 with 1 Axes>"
      ]
     },
     "metadata": {
      "needs_background": "light"
     },
     "output_type": "display_data"
    }
   ],
   "source": [
    "import matplotlib.pyplot as plt\n",
    "%matplotlib inline\n",
    "\n",
    "plt.figure(figsize=(10, 7))\n",
    "plt.title('Legitimate Websites')\n",
    "plt.xlabel('external link percentage')\n",
    "plt.ylabel('accuracy')\n",
    "\n",
    "plt.plot(graph_data['Links_in_tags'].values, graph_data['accuracy'].values )\n",
    "plt.plot(80,82.7, '*')\n",
    "plt.show()\n"
   ]
  },
  {
   "cell_type": "markdown",
   "metadata": {},
   "source": [
    "According to the above graph, it gives highest accuracy at 80 on x axis. So that we can conclude that, when the links in tag percentage is higher than 80% it can be a legitimate website."
   ]
  },
  {
   "cell_type": "code",
   "execution_count": null,
   "metadata": {},
   "outputs": [],
   "source": []
  },
  {
   "cell_type": "code",
   "execution_count": null,
   "metadata": {},
   "outputs": [],
   "source": [
    "\n",
    "\n"
   ]
  },
  {
   "cell_type": "markdown",
   "metadata": {},
   "source": [
    "## Feature - Website Forwarding"
   ]
  },
  {
   "cell_type": "code",
   "execution_count": 1,
   "metadata": {},
   "outputs": [
    {
     "data": {
      "text/html": [
       "<div>\n",
       "<style scoped>\n",
       "    .dataframe tbody tr th:only-of-type {\n",
       "        vertical-align: middle;\n",
       "    }\n",
       "\n",
       "    .dataframe tbody tr th {\n",
       "        vertical-align: top;\n",
       "    }\n",
       "\n",
       "    .dataframe thead th {\n",
       "        text-align: right;\n",
       "    }\n",
       "</style>\n",
       "<table border=\"1\" class=\"dataframe\">\n",
       "  <thead>\n",
       "    <tr style=\"text-align: right;\">\n",
       "      <th></th>\n",
       "      <th>Links_in_tags</th>\n",
       "      <th>Abnormal_URL</th>\n",
       "      <th>Submitting_to_email</th>\n",
       "      <th>SFH</th>\n",
       "      <th>Iframe</th>\n",
       "      <th>popUpWidnow</th>\n",
       "      <th>on_mouseover</th>\n",
       "      <th>RightClick</th>\n",
       "      <th>Redirect</th>\n",
       "    </tr>\n",
       "  </thead>\n",
       "  <tbody>\n",
       "    <tr>\n",
       "      <th>0</th>\n",
       "      <td>73.913043</td>\n",
       "      <td>-1</td>\n",
       "      <td>1</td>\n",
       "      <td>1</td>\n",
       "      <td>-1</td>\n",
       "      <td>1</td>\n",
       "      <td>1</td>\n",
       "      <td>1</td>\n",
       "      <td>0</td>\n",
       "    </tr>\n",
       "    <tr>\n",
       "      <th>1</th>\n",
       "      <td>85.000000</td>\n",
       "      <td>-1</td>\n",
       "      <td>1</td>\n",
       "      <td>1</td>\n",
       "      <td>-1</td>\n",
       "      <td>1</td>\n",
       "      <td>1</td>\n",
       "      <td>1</td>\n",
       "      <td>0</td>\n",
       "    </tr>\n",
       "    <tr>\n",
       "      <th>2</th>\n",
       "      <td>97.000000</td>\n",
       "      <td>-1</td>\n",
       "      <td>1</td>\n",
       "      <td>1</td>\n",
       "      <td>-1</td>\n",
       "      <td>1</td>\n",
       "      <td>1</td>\n",
       "      <td>1</td>\n",
       "      <td>1</td>\n",
       "    </tr>\n",
       "    <tr>\n",
       "      <th>3</th>\n",
       "      <td>12.000000</td>\n",
       "      <td>-1</td>\n",
       "      <td>1</td>\n",
       "      <td>-1</td>\n",
       "      <td>1</td>\n",
       "      <td>-1</td>\n",
       "      <td>-1</td>\n",
       "      <td>-1</td>\n",
       "      <td>0</td>\n",
       "    </tr>\n",
       "    <tr>\n",
       "      <th>4</th>\n",
       "      <td>55.555556</td>\n",
       "      <td>-1</td>\n",
       "      <td>1</td>\n",
       "      <td>-1</td>\n",
       "      <td>1</td>\n",
       "      <td>-1</td>\n",
       "      <td>-1</td>\n",
       "      <td>-1</td>\n",
       "      <td>0</td>\n",
       "    </tr>\n",
       "  </tbody>\n",
       "</table>\n",
       "</div>"
      ],
      "text/plain": [
       "   Links_in_tags  Abnormal_URL  Submitting_to_email  SFH  Iframe  popUpWidnow  \\\n",
       "0      73.913043            -1                    1    1      -1            1   \n",
       "1      85.000000            -1                    1    1      -1            1   \n",
       "2      97.000000            -1                    1    1      -1            1   \n",
       "3      12.000000            -1                    1   -1       1           -1   \n",
       "4      55.555556            -1                    1   -1       1           -1   \n",
       "\n",
       "   on_mouseover  RightClick  Redirect  \n",
       "0             1           1         0  \n",
       "1             1           1         0  \n",
       "2             1           1         1  \n",
       "3            -1          -1         0  \n",
       "4            -1          -1         0  "
      ]
     },
     "execution_count": 1,
     "metadata": {},
     "output_type": "execute_result"
    }
   ],
   "source": [
    "import numpy as np\n",
    "import pandas as pd\n",
    "# from sklearn.linear_model import LogisticRegression\n",
    "from sklearn.ensemble import RandomForestClassifier\n",
    "from sklearn.metrics import accuracy_score,confusion_matrix,classification_report\n",
    "from sklearn.model_selection import train_test_split,cross_val_score\n",
    "\n",
    "dataset = pd.read_csv('dataset1.csv')\n",
    "X= dataset.drop(columns=['url','Result'])\n",
    "Y= dataset['Result']\n",
    "X.head()"
   ]
  },
  {
   "cell_type": "markdown",
   "metadata": {},
   "source": [
    "Let us consider the phishing websites\n"
   ]
  },
  {
   "cell_type": "code",
   "execution_count": 3,
   "metadata": {},
   "outputs": [
    {
     "data": {
      "text/html": [
       "<div>\n",
       "<style scoped>\n",
       "    .dataframe tbody tr th:only-of-type {\n",
       "        vertical-align: middle;\n",
       "    }\n",
       "\n",
       "    .dataframe tbody tr th {\n",
       "        vertical-align: top;\n",
       "    }\n",
       "\n",
       "    .dataframe thead th {\n",
       "        text-align: right;\n",
       "    }\n",
       "</style>\n",
       "<table border=\"1\" class=\"dataframe\">\n",
       "  <thead>\n",
       "    <tr style=\"text-align: right;\">\n",
       "      <th></th>\n",
       "      <th>Redirect</th>\n",
       "      <th>accuracy</th>\n",
       "    </tr>\n",
       "  </thead>\n",
       "  <tbody>\n",
       "    <tr>\n",
       "      <th>0</th>\n",
       "      <td>2</td>\n",
       "      <td>88.7500</td>\n",
       "    </tr>\n",
       "    <tr>\n",
       "      <th>1</th>\n",
       "      <td>3</td>\n",
       "      <td>89.0000</td>\n",
       "    </tr>\n",
       "    <tr>\n",
       "      <th>2</th>\n",
       "      <td>4</td>\n",
       "      <td>88.8750</td>\n",
       "    </tr>\n",
       "    <tr>\n",
       "      <th>3</th>\n",
       "      <td>5</td>\n",
       "      <td>89.4375</td>\n",
       "    </tr>\n",
       "    <tr>\n",
       "      <th>4</th>\n",
       "      <td>6</td>\n",
       "      <td>88.6875</td>\n",
       "    </tr>\n",
       "  </tbody>\n",
       "</table>\n",
       "</div>"
      ],
      "text/plain": [
       "   Redirect  accuracy\n",
       "0         2   88.7500\n",
       "1         3   89.0000\n",
       "2         4   88.8750\n",
       "3         5   89.4375\n",
       "4         6   88.6875"
      ]
     },
     "execution_count": 3,
     "metadata": {},
     "output_type": "execute_result"
    }
   ],
   "source": [
    "redirect_col = pd.DataFrame(X['Redirect'])\n",
    "\n",
    "graph_data = pd.DataFrame()\n",
    "graph_data[\"Redirect\"] = range(2,8)\n",
    "\n",
    "accuracy_arr = ['none']*6   #set empty colomn for plotting accuracy of each row\n",
    "\n",
    "for num1 in range(2,8):\n",
    "    conds = [redirect_col.values < 1 , redirect_col.values > num1]\n",
    "\n",
    "    choices = ['-1', '1']\n",
    "    col = pd.DataFrame(np.select(conds, choices, default='0'),\n",
    "                       index=redirect_col.index,\n",
    "                       columns=redirect_col.columns)\n",
    "    \n",
    "    # append the updated redirect column to remaining dataset\n",
    "    X_new = X.assign(Redirect=col['Redirect'])\n",
    "    train_X,test_X,train_Y,test_Y=train_test_split(X_new,Y,test_size=0.2,random_state=2)\n",
    "    \n",
    "    # test using logistic regression\n",
    "    #logreg=LogisticRegression()\n",
    "    #model_1=logreg.fit(train_X,train_Y)   \n",
    "    rfc=RandomForestClassifier()\n",
    "    model_1=rfc.fit(train_X,train_Y)\n",
    "\n",
    "    #logreg_predict= model_1.predict(test_X)\n",
    "    #accuracy_arr[num1] = accuracy_score(logreg_predict,test_Y)*100\n",
    "    rfc_predict= model_1.predict(test_X)\n",
    "    accuracy_arr[num1-2] = accuracy_score(rfc_predict,test_Y)*100\n",
    "    \n",
    "graph_data[\"accuracy\"] = accuracy_arr \n",
    "graph_data.head()"
   ]
  },
  {
   "cell_type": "code",
   "execution_count": 4,
   "metadata": {},
   "outputs": [
    {
     "data": {
      "image/png": "[encoded data removed]",
      "text/plain": [
       "<Figure size 720x504 with 1 Axes>"
      ]
     },
     "metadata": {
      "needs_background": "light"
     },
     "output_type": "display_data"
    }
   ],
   "source": [
    "import matplotlib.pyplot as plt\n",
    "%matplotlib inline\n",
    "\n",
    "plt.figure(figsize=(10, 7))\n",
    "plt.title('Legitimate Websites')\n",
    "plt.xlabel('Number of redirections')\n",
    "plt.ylabel('accuracy')\n",
    "\n",
    "plt.plot(graph_data['Redirect'].values, graph_data['accuracy'].values )\n",
    "# plt.plot(80,82.7, '*')\n",
    "plt.show()\n"
   ]
  },
  {
   "cell_type": "code",
   "execution_count": null,
   "metadata": {},
   "outputs": [],
   "source": []
  },
  {
   "cell_type": "code",
   "execution_count": null,
   "metadata": {},
   "outputs": [],
   "source": []
  },
  {
   "cell_type": "markdown",
   "metadata": {},
   "source": [
    "Lets consider the legitimate websites"
   ]
  },
  {
   "cell_type": "code",
   "execution_count": 5,
   "metadata": {},
   "outputs": [
    {
     "data": {
      "text/html": [
       "<div>\n",
       "<style scoped>\n",
       "    .dataframe tbody tr th:only-of-type {\n",
       "        vertical-align: middle;\n",
       "    }\n",
       "\n",
       "    .dataframe tbody tr th {\n",
       "        vertical-align: top;\n",
       "    }\n",
       "\n",
       "    .dataframe thead th {\n",
       "        text-align: right;\n",
       "    }\n",
       "</style>\n",
       "<table border=\"1\" class=\"dataframe\">\n",
       "  <thead>\n",
       "    <tr style=\"text-align: right;\">\n",
       "      <th></th>\n",
       "      <th>Redirect</th>\n",
       "      <th>accuracy</th>\n",
       "    </tr>\n",
       "  </thead>\n",
       "  <tbody>\n",
       "    <tr>\n",
       "      <th>0</th>\n",
       "      <td>0</td>\n",
       "      <td>89.250</td>\n",
       "    </tr>\n",
       "    <tr>\n",
       "      <th>1</th>\n",
       "      <td>1</td>\n",
       "      <td>89.125</td>\n",
       "    </tr>\n",
       "    <tr>\n",
       "      <th>2</th>\n",
       "      <td>2</td>\n",
       "      <td>89.125</td>\n",
       "    </tr>\n",
       "    <tr>\n",
       "      <th>3</th>\n",
       "      <td>3</td>\n",
       "      <td>89.000</td>\n",
       "    </tr>\n",
       "  </tbody>\n",
       "</table>\n",
       "</div>"
      ],
      "text/plain": [
       "   Redirect  accuracy\n",
       "0         0    89.250\n",
       "1         1    89.125\n",
       "2         2    89.125\n",
       "3         3    89.000"
      ]
     },
     "execution_count": 5,
     "metadata": {},
     "output_type": "execute_result"
    }
   ],
   "source": [
    "redirect_col = pd.DataFrame(X['Redirect'])\n",
    "\n",
    "graph_data = pd.DataFrame()\n",
    "graph_data[\"Redirect\"] = range(4)\n",
    "\n",
    "accuracy_arr = ['none']*4   #set empty colomn for plotting accuracy of each row\n",
    "\n",
    "for num1 in range(4):\n",
    "    conds = [redirect_col.values < num1 , redirect_col.values > 5]\n",
    "\n",
    "    choices = ['-1', '1']\n",
    "    col = pd.DataFrame(np.select(conds, choices, default='0'),\n",
    "                       index=redirect_col.index,\n",
    "                       columns=redirect_col.columns)\n",
    "    \n",
    "    # append the updated redirect column to remaining dataset\n",
    "    X_new = X.assign(Redirect=col['Redirect'])\n",
    "    train_X,test_X,train_Y,test_Y=train_test_split(X_new,Y,test_size=0.2,random_state=2)\n",
    "    \n",
    "    # test using logistic regression\n",
    "    #logreg=LogisticRegression()\n",
    "    #model_1=logreg.fit(train_X,train_Y)   \n",
    "    rfc=RandomForestClassifier()\n",
    "    model_1=rfc.fit(train_X,train_Y)\n",
    "\n",
    "    #logreg_predict= model_1.predict(test_X)\n",
    "    #accuracy_arr[num1] = accuracy_score(logreg_predict,test_Y)*100\n",
    "    rfc_predict= model_1.predict(test_X)\n",
    "    accuracy_arr[num1] = accuracy_score(rfc_predict,test_Y)*100\n",
    "    \n",
    "graph_data[\"accuracy\"] = accuracy_arr \n",
    "graph_data.head()"
   ]
  },
  {
   "cell_type": "code",
   "execution_count": 6,
   "metadata": {},
   "outputs": [
    {
     "data": {
      "image/png": "[encoded data removed]",
      "text/plain": [
       "<Figure size 720x504 with 1 Axes>"
      ]
     },
     "metadata": {
      "needs_background": "light"
     },
     "output_type": "display_data"
    }
   ],
   "source": [
    "import matplotlib.pyplot as plt\n",
    "%matplotlib inline\n",
    "\n",
    "plt.figure(figsize=(10, 7))\n",
    "plt.title('Legitimate Websites')\n",
    "plt.xlabel('Number of redirections')\n",
    "plt.ylabel('accuracy')\n",
    "\n",
    "plt.plot(graph_data['Redirect'].values, graph_data['accuracy'].values )\n",
    "# plt.plot(80,82.7, '*')\n",
    "plt.show()"
   ]
  },
  {
   "cell_type": "code",
   "execution_count": null,
   "metadata": {},
   "outputs": [],
   "source": []
  }
 ],
 "metadata": {
  "kernelspec": {
   "display_name": "Python 3",
   "language": "python",
   "name": "python3"
  },
  "language_info": {
   "codemirror_mode": {
    "name": "ipython",
    "version": 3
   },
   "file_extension": ".py",
   "mimetype": "text/x-python",
   "name": "python",
   "nbconvert_exporter": "python",
   "pygments_lexer": "ipython3",
   "version": "3.7.7"
  }
 },
 "nbformat": 4,
 "nbformat_minor": 4
}
