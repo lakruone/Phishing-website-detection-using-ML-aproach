{
 "cells": [
  {
   "cell_type": "markdown",
   "metadata": {},
   "source": [
    "# 1 - Forward Feature Selection"
   ]
  },
  {
   "cell_type": "code",
   "execution_count": 2,
   "metadata": {},
   "outputs": [
    {
     "data": {
      "text/html": [
       "<div>\n",
       "<style scoped>\n",
       "    .dataframe tbody tr th:only-of-type {\n",
       "        vertical-align: middle;\n",
       "    }\n",
       "\n",
       "    .dataframe tbody tr th {\n",
       "        vertical-align: top;\n",
       "    }\n",
       "\n",
       "    .dataframe thead th {\n",
       "        text-align: right;\n",
       "    }\n",
       "</style>\n",
       "<table border=\"1\" class=\"dataframe\">\n",
       "  <thead>\n",
       "    <tr style=\"text-align: right;\">\n",
       "      <th></th>\n",
       "      <th>Links_in_tags</th>\n",
       "      <th>Abnormal_URL</th>\n",
       "      <th>Submitting_to_email</th>\n",
       "      <th>SFH</th>\n",
       "      <th>Iframe</th>\n",
       "      <th>popUpWidnow</th>\n",
       "      <th>on_mouseover</th>\n",
       "      <th>RightClick</th>\n",
       "      <th>Redirect</th>\n",
       "      <th>Result</th>\n",
       "    </tr>\n",
       "  </thead>\n",
       "  <tbody>\n",
       "    <tr>\n",
       "      <th>0</th>\n",
       "      <td>0</td>\n",
       "      <td>-1</td>\n",
       "      <td>1</td>\n",
       "      <td>1</td>\n",
       "      <td>-1</td>\n",
       "      <td>1</td>\n",
       "      <td>1</td>\n",
       "      <td>1</td>\n",
       "      <td>-1</td>\n",
       "      <td>1</td>\n",
       "    </tr>\n",
       "    <tr>\n",
       "      <th>1</th>\n",
       "      <td>1</td>\n",
       "      <td>-1</td>\n",
       "      <td>1</td>\n",
       "      <td>1</td>\n",
       "      <td>-1</td>\n",
       "      <td>1</td>\n",
       "      <td>1</td>\n",
       "      <td>1</td>\n",
       "      <td>-1</td>\n",
       "      <td>1</td>\n",
       "    </tr>\n",
       "    <tr>\n",
       "      <th>2</th>\n",
       "      <td>1</td>\n",
       "      <td>-1</td>\n",
       "      <td>1</td>\n",
       "      <td>1</td>\n",
       "      <td>-1</td>\n",
       "      <td>1</td>\n",
       "      <td>1</td>\n",
       "      <td>1</td>\n",
       "      <td>0</td>\n",
       "      <td>1</td>\n",
       "    </tr>\n",
       "    <tr>\n",
       "      <th>3</th>\n",
       "      <td>-1</td>\n",
       "      <td>-1</td>\n",
       "      <td>1</td>\n",
       "      <td>-1</td>\n",
       "      <td>1</td>\n",
       "      <td>-1</td>\n",
       "      <td>-1</td>\n",
       "      <td>-1</td>\n",
       "      <td>-1</td>\n",
       "      <td>-1</td>\n",
       "    </tr>\n",
       "    <tr>\n",
       "      <th>4</th>\n",
       "      <td>0</td>\n",
       "      <td>-1</td>\n",
       "      <td>1</td>\n",
       "      <td>-1</td>\n",
       "      <td>1</td>\n",
       "      <td>-1</td>\n",
       "      <td>-1</td>\n",
       "      <td>-1</td>\n",
       "      <td>-1</td>\n",
       "      <td>-1</td>\n",
       "    </tr>\n",
       "  </tbody>\n",
       "</table>\n",
       "</div>"
      ],
      "text/plain": [
       "   Links_in_tags  Abnormal_URL  Submitting_to_email  SFH  ...  on_mouseover  RightClick  Redirect  Result\n",
       "0              0            -1                    1    1  ...             1           1        -1       1\n",
       "1              1            -1                    1    1  ...             1           1        -1       1\n",
       "2              1            -1                    1    1  ...             1           1         0       1\n",
       "3             -1            -1                    1   -1  ...            -1          -1        -1      -1\n",
       "4              0            -1                    1   -1  ...            -1          -1        -1      -1\n",
       "\n",
       "[5 rows x 10 columns]"
      ]
     },
     "execution_count": 2,
     "metadata": {},
     "output_type": "execute_result"
    }
   ],
   "source": [
    "# Forward Feature Selection\n",
    "from mlxtend.feature_selection import SequentialFeatureSelector\n",
    "import pandas as pd\n",
    "from sklearn.model_selection import train_test_split\n",
    "from sklearn.linear_model import LogisticRegression\n",
    "\n",
    "\n",
    "dataset = pd.read_csv('dataset1.csv')\n",
    "X= dataset.drop(columns='Result')\n",
    "Y= dataset['Result']\n",
    "dataset.head()"
   ]
  },
  {
   "cell_type": "code",
   "execution_count": 12,
   "metadata": {},
   "outputs": [
    {
     "name": "stdout",
     "output_type": "stream",
     "text": [
      "['Links_in_tags', 'Abnormal_URL', 'SFH', 'Iframe', 'on_mouseover', 'RightClick', 'Redirect']\n"
     ]
    }
   ],
   "source": [
    "X_train,X_test,Y_train,Y_test = train_test_split(X,Y,test_size=0.2)\n",
    "\n",
    "lr = LogisticRegression(class_weight='balanced', solver='lbfgs', random_state=42, n_jobs=-1, max_iter=500)\n",
    "ffs = SequentialFeatureSelector(lr, k_features='best', forward=True, n_jobs=-1)\n",
    "ffs.fit(X,Y)\n",
    "features = list(ffs.k_feature_names_)\n",
    "features = list(map(str, features))\n",
    "\n",
    "print(features)"
   ]
  },
  {
   "cell_type": "markdown",
   "metadata": {},
   "source": [
    "Above algorithm have drop two features\n",
    "- Submitting_to_email\n",
    "- popUpWidnow"
   ]
  },
  {
   "cell_type": "code",
   "execution_count": null,
   "metadata": {},
   "outputs": [],
   "source": []
  },
  {
   "cell_type": "code",
   "execution_count": null,
   "metadata": {},
   "outputs": [],
   "source": []
  },
  {
   "cell_type": "markdown",
   "metadata": {},
   "source": [
    "# 2 - Backward Feature Selection"
   ]
  },
  {
   "cell_type": "code",
   "execution_count": 15,
   "metadata": {},
   "outputs": [
    {
     "name": "stdout",
     "output_type": "stream",
     "text": [
      "['Links_in_tags', 'Abnormal_URL', 'SFH', 'on_mouseover', 'RightClick', 'Redirect']\n"
     ]
    }
   ],
   "source": [
    "# Backward Feature Selection\n",
    "from mlxtend.feature_selection import SequentialFeatureSelector\n",
    "import pandas as pd\n",
    "from sklearn.model_selection import train_test_split\n",
    "from sklearn.linear_model import LogisticRegression\n",
    "\n",
    "\n",
    "dataset = pd.read_csv('dataset1.csv')\n",
    "X= dataset.drop(columns='Result')\n",
    "Y= dataset['Result']\n",
    "# X.head()\n",
    "\n",
    "lr = LogisticRegression(class_weight='balanced', solver='lbfgs', random_state=42, n_jobs=-1, max_iter=500)\n",
    "bfs = SequentialFeatureSelector(lr, k_features='best', forward=False, n_jobs=-1)\n",
    "bfs.fit(X,Y)\n",
    "features = list(bfs.k_feature_names_)\n",
    "features = list(map(str, features))\n",
    "\n",
    "print(features)\n",
    "\n",
    "# lr.fit(X_train[features], Y_train)\n",
    "# y_pred = lr.predict(X_train[features])\n",
    "# print(y_pred)"
   ]
  },
  {
   "cell_type": "markdown",
   "metadata": {},
   "source": [
    "Above algorithm have drop 3 features\n",
    "- Submitting_to_email\n",
    "- Iframe\n",
    "- popUpWidnow"
   ]
  },
  {
   "cell_type": "code",
   "execution_count": null,
   "metadata": {},
   "outputs": [],
   "source": []
  },
  {
   "cell_type": "code",
   "execution_count": null,
   "metadata": {},
   "outputs": [],
   "source": []
  },
  {
   "cell_type": "markdown",
   "metadata": {},
   "source": [
    "# 3 - Exhaustive Feature Selection"
   ]
  },
  {
   "cell_type": "code",
   "execution_count": 17,
   "metadata": {
    "scrolled": true
   },
   "outputs": [
    {
     "name": "stderr",
     "output_type": "stream",
     "text": [
      "Features: 381/381"
     ]
    },
    {
     "name": "stdout",
     "output_type": "stream",
     "text": [
      "Index(['Links_in_tags', 'Abnormal_URL', 'SFH', 'on_mouseover', 'RightClick',\n",
      "       'Redirect'],\n",
      "      dtype='object')\n"
     ]
    }
   ],
   "source": [
    "# Exhaustive Feature Selection\n",
    "from mlxtend.feature_selection import ExhaustiveFeatureSelector\n",
    "from sklearn.model_selection import train_test_split\n",
    "from sklearn.ensemble import RandomForestClassifier\n",
    "import pandas as pd\n",
    "\n",
    "dataset = pd.read_csv('dataset1.csv')\n",
    "X= dataset.drop(columns='Result')\n",
    "Y= dataset['Result']\n",
    "\n",
    "X_train,X_test,Y_train,Y_test = train_test_split(X,Y,test_size=0.2)\n",
    "\n",
    "\n",
    "# create the exhaustive feature selector object\n",
    "efs = ExhaustiveFeatureSelector(RandomForestClassifier(),\n",
    "                               min_features=4,\n",
    "                               max_features=8,\n",
    "                               scoring='roc_auc',\n",
    "                               cv=2)\n",
    "\n",
    "efs = efs.fit(X,Y)\n",
    "\n",
    "selected_features = X_train.columns[list(efs.best_idx_)]\n",
    "print(selected_features)\n"
   ]
  },
  {
   "cell_type": "markdown",
   "metadata": {},
   "source": [
    "Above algorithm have drop 3 features\n",
    "- Submitting_to_email\n",
    "- Iframe\n",
    "- popUpWidnow"
   ]
  },
  {
   "cell_type": "code",
   "execution_count": null,
   "metadata": {},
   "outputs": [],
   "source": []
  },
  {
   "cell_type": "code",
   "execution_count": null,
   "metadata": {},
   "outputs": [],
   "source": []
  },
  {
   "cell_type": "markdown",
   "metadata": {},
   "source": [
    "# 4 - Recursive Feature Elimination"
   ]
  },
  {
   "cell_type": "code",
   "execution_count": 19,
   "metadata": {},
   "outputs": [
    {
     "name": "stdout",
     "output_type": "stream",
     "text": [
      "Column: 0, Selected True, Rank: 1.000 col_name: Links_in_tags\n",
      "Column: 1, Selected True, Rank: 1.000 col_name: Abnormal_URL\n",
      "Column: 2, Selected True, Rank: 1.000 col_name: Submitting_to_email\n",
      "Column: 3, Selected False, Rank: 3.000 col_name: SFH\n",
      "Column: 4, Selected True, Rank: 1.000 col_name: Iframe\n",
      "Column: 5, Selected True, Rank: 1.000 col_name: popUpWidnow\n",
      "Column: 6, Selected True, Rank: 1.000 col_name: on_mouseover\n",
      "Column: 7, Selected True, Rank: 1.000 col_name: RightClick\n",
      "Column: 8, Selected False, Rank: 2.000 col_name: Redirect\n"
     ]
    }
   ],
   "source": [
    "#Recursive Feature Elimination\n",
    "import pandas as pd\n",
    "from sklearn.feature_selection import RFE\n",
    "\n",
    "dataset = pd.read_csv('dataset1.csv')\n",
    "X= dataset.drop(columns='Result')\n",
    "Y= dataset['Result']\n",
    "\n",
    "X_train,X_test,Y_train,Y_test = train_test_split(X,Y,test_size=0.2)\n",
    "\n",
    "rfe = RFE(lr, n_features_to_select=7) #choose number of columns to be selected\n",
    "rfe = rfe.fit(X_train,Y_train)\n",
    "\n",
    "# summarize all features\n",
    "for i in range(X.shape[1]):\n",
    "\tprint('Column: %d, Selected %s, Rank: %.3f col_name: %s' % (i, rfe.support_[i], rfe.ranking_[i], X_train.columns[i]))"
   ]
  },
  {
   "cell_type": "markdown",
   "metadata": {},
   "source": [
    "Above algorithm have drop 2 features\n",
    "- SFH\n",
    "- Redirect"
   ]
  }
 ],
 "metadata": {
  "kernelspec": {
   "display_name": "Python 3",
   "language": "python",
   "name": "python3"
  },
  "language_info": {
   "codemirror_mode": {
    "name": "ipython",
    "version": 3
   },
   "file_extension": ".py",
   "mimetype": "text/x-python",
   "name": "python",
   "nbconvert_exporter": "python",
   "pygments_lexer": "ipython3",
   "version": "3.7.7"
  }
 },
 "nbformat": 4,
 "nbformat_minor": 4
}
